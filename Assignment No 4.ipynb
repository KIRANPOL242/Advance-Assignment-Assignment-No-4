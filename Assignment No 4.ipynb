{
 "cells": [
  {
   "cell_type": "markdown",
   "metadata": {},
   "source": [
    "# Assignment No 4"
   ]
  },
  {
   "cell_type": "code",
   "execution_count": null,
   "metadata": {},
   "outputs": [],
   "source": []
  },
  {
   "cell_type": "markdown",
   "metadata": {},
   "source": [
    "Q1. Which two operator overloading methods can you use in your classes to support iteration?"
   ]
  },
  {
   "cell_type": "code",
   "execution_count": null,
   "metadata": {},
   "outputs": [],
   "source": []
  },
  {
   "cell_type": "markdown",
   "metadata": {},
   "source": [
    "__iter__() and __next__() are the methods we use in our classes to support iteration.\n",
    "\n",
    "__iter__ returns iterator object and its implicityly called at the start of the loop.\n",
    "__next__ returns next value and its implicitly called at each loop increment and it raises StopInteration when its values for iteration finshed.\n",
    "\n"
   ]
  },
  {
   "cell_type": "code",
   "execution_count": 3,
   "metadata": {},
   "outputs": [
    {
     "name": "stdout",
     "output_type": "stream",
     "text": [
      "1\n",
      "2\n",
      "3\n",
      "4\n",
      "5\n"
     ]
    }
   ],
   "source": [
    "class Counter:\n",
    "    def __init__(self,low,high):\n",
    "        self.current=low\n",
    "        self.high=high\n",
    "    def __iter__(self):\n",
    "        return self\n",
    "    def __next__(self):\n",
    "        if self.current>self.high:\n",
    "            raise StopIteration\n",
    "        else:\n",
    "            self.current+=1\n",
    "            return self.current-1\n",
    "for num in Counter(1,5):\n",
    "    print(num)"
   ]
  },
  {
   "cell_type": "markdown",
   "metadata": {},
   "source": [
    "Q2. In what contexts do the two operator overloading methods manage printing?"
   ]
  },
  {
   "cell_type": "code",
   "execution_count": null,
   "metadata": {},
   "outputs": [],
   "source": []
  },
  {
   "cell_type": "markdown",
   "metadata": {},
   "source": [
    "- __str__ and __repr__ are two operator overloading methods that manage printing.\n",
    "\n",
    "- In Short, the difference between both these operators is the goal of __repr__ is to be unambiguous and __str__ is to be readable.\n",
    "- Whenever we are printing any object reference internally __str__ method will be called by default.\n",
    "- The main purpose of __str__ is for readability. it prints the informal string representation of an object, one that is useful for printing the object. it may not be possible to convert result string to original object.\n",
    "- __repr__ is used to print official string representation of an object, so it includes all information and development."
   ]
  },
  {
   "cell_type": "code",
   "execution_count": 9,
   "metadata": {},
   "outputs": [
    {
     "name": "stdout",
     "output_type": "stream",
     "text": [
      "<__main__.College object at 0x0000022E6B6A0278>\n",
      "Student Name is :Raj and Roll No is : 1\n",
      "2022-03-29 04:44:23.113509\n"
     ]
    }
   ],
   "source": [
    "class College:\n",
    "    def __init__(mycoll,name,roll_no):\n",
    "        mycoll.name=name\n",
    "        mycoll.roll_no=roll_no\n",
    "c1=College(\"Bharati\",2)\n",
    "print(str(c1))\n",
    "class College:\n",
    "    def __init__(mycoll,name,roll_no):\n",
    "        mycoll.name=name\n",
    "        mycoll.roll_no=roll_no\n",
    "    def __str__(mycoll):\n",
    "        return f'Student Name is :{mycoll.name} and Roll No is : {mycoll.roll_no}'\n",
    "c1=College('Raj',1)\n",
    "print(str(c1))\n",
    "import datetime\n",
    "today=datetime.datetime.now()\n",
    "s=str(today) # convet datetime object to string\n",
    "print(s)\n"
   ]
  },
  {
   "cell_type": "markdown",
   "metadata": {},
   "source": [
    "Q3. In a class, how do you intercept slice operations?"
   ]
  },
  {
   "cell_type": "code",
   "execution_count": null,
   "metadata": {},
   "outputs": [],
   "source": []
  },
  {
   "cell_type": "markdown",
   "metadata": {},
   "source": [
    "In a class use of slice() in __getitem__ method is used for intercept slice operation. This slice method is provided with start integer number, stop integer number and step integer number.\n",
    "e.g - __getitem__(slice(start,stop,step))"
   ]
  },
  {
   "cell_type": "markdown",
   "metadata": {},
   "source": [
    "Q4. In a class, how do you capture in-place addition?"
   ]
  },
  {
   "cell_type": "code",
   "execution_count": null,
   "metadata": {},
   "outputs": [],
   "source": []
  },
  {
   "cell_type": "markdown",
   "metadata": {},
   "source": [
    "x+=y, is the inplace addtion here, in this in-place addition x itself will store the value of addition. In a class \n",
    "__iadd__ method is used for this in-place operation "
   ]
  },
  {
   "cell_type": "code",
   "execution_count": 2,
   "metadata": {},
   "outputs": [
    {
     "name": "stdout",
     "output_type": "stream",
     "text": [
      "300\n"
     ]
    }
   ],
   "source": [
    "class Novel:\n",
    "    def __init__(self,pages):\n",
    "        self.pages=pages\n",
    "    def __iadd__(self,other):\n",
    "        self.pages+=other.pages\n",
    "        return self.pages\n",
    "n1=Novel(100)\n",
    "n2=Novel(200)\n",
    "n1+=n2\n",
    "print(n1)"
   ]
  },
  {
   "cell_type": "markdown",
   "metadata": {},
   "source": [
    "Q5. When is it appropriate to use operator overloading?"
   ]
  },
  {
   "cell_type": "code",
   "execution_count": null,
   "metadata": {},
   "outputs": [],
   "source": []
  },
  {
   "cell_type": "markdown",
   "metadata": {},
   "source": [
    "Operator overloading is used when we would like change the meaning of any operator as per value passed to it."
   ]
  },
  {
   "cell_type": "code",
   "execution_count": 9,
   "metadata": {},
   "outputs": [
    {
     "name": "stdout",
     "output_type": "stream",
     "text": [
      "Adding two integers:\t 300\n",
      "Adding two strings:\t abcxyz\n"
     ]
    }
   ],
   "source": [
    "class Novel:\n",
    "    def __init__(self,pages):\n",
    "        self.pages=pages\n",
    "    def __add__(self,other):\n",
    "        return self.pages+other.pages\n",
    "n1=Novel(100) # passing integer value\n",
    "n2=Novel(200)\n",
    "n3=Novel('abc') # Passing stirng value\n",
    "n4=Novel('xyz')\n",
    "print(\"Adding two integers:\\t\",n1+n2)\n",
    "print(\"Adding two strings:\\t\",n3+n4)"
   ]
  }
 ],
 "metadata": {
  "kernelspec": {
   "display_name": "Python 3",
   "language": "python",
   "name": "python3"
  },
  "language_info": {
   "codemirror_mode": {
    "name": "ipython",
    "version": 3
   },
   "file_extension": ".py",
   "mimetype": "text/x-python",
   "name": "python",
   "nbconvert_exporter": "python",
   "pygments_lexer": "ipython3",
   "version": "3.7.1"
  }
 },
 "nbformat": 4,
 "nbformat_minor": 2
}
